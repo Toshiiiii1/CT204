{
 "cells": [
  {
   "cell_type": "code",
   "execution_count": 1,
   "metadata": {},
   "outputs": [],
   "source": [
    "from sympy import primerange\n",
    "import random\n",
    "from math import lcm, gcd"
   ]
  },
  {
   "cell_type": "code",
   "execution_count": 2,
   "metadata": {},
   "outputs": [],
   "source": [
    "def gcd_extended(a, b):\n",
    "    if a == 0:\n",
    "        return (b, 0, 1)\n",
    "    else:\n",
    "        g, y, x = gcd_extended(b % a, a)\n",
    "        return (g, x - (b // a) * y, y)\n",
    "\n",
    "def mod_inverse(a, m):\n",
    "    g, x, y = gcd_extended(a, m)\n",
    "    if g != 1:\n",
    "        raise Exception('modular inverse does not exist')\n",
    "    else:\n",
    "        return x % m"
   ]
  },
  {
   "cell_type": "code",
   "execution_count": 3,
   "metadata": {},
   "outputs": [
    {
     "name": "stdout",
     "output_type": "stream",
     "text": [
      "(2881477, 3)\n",
      "(2881477, 479677)\n"
     ]
    }
   ],
   "source": [
    "def generate_key():\n",
    "    # chọn ngẫu nhiên 2 số nguyên tố p và q\n",
    "    prime = list(primerange(1000, 2000))\n",
    "    p, q = random.choice(prime), random.choice(prime)\n",
    "    n = p * q\n",
    "    lambda_n = lcm(p-1, q-1)\n",
    "\n",
    "    # Tìm số e sao cho e và lambda_n nguyên tố cùng nhau\n",
    "    for e in range(2, lambda_n+1):\n",
    "        if gcd(e, lambda_n) == 1:\n",
    "            break\n",
    "\n",
    "    d = mod_inverse(e, lambda_n)\n",
    "\n",
    "    public_key = (n, e)\n",
    "    private_key = (n, d)\n",
    "\n",
    "    return public_key, private_key\n",
    "\n",
    "public_key, private_key = generate_key()\n",
    "print(public_key)\n",
    "print(private_key)"
   ]
  },
  {
   "cell_type": "code",
   "execution_count": 4,
   "metadata": {},
   "outputs": [],
   "source": [
    "def encrypt(m, public_key):\n",
    "    return (m**public_key[1]) % public_key[0]\n",
    "\n",
    "def decrypt(c, private_key):\n",
    "    return (c**private_key[1]) % private_key[0]"
   ]
  },
  {
   "cell_type": "code",
   "execution_count": 5,
   "metadata": {},
   "outputs": [],
   "source": [
    "def encoder(message):\n",
    "    encoded = []\n",
    "    for letter in message:\n",
    "        encoded.append(encrypt(ord(letter), public_key))\n",
    "    return encoded\n",
    " \n",
    " \n",
    "def decoder(encoded):\n",
    "    seq = ''\n",
    "    for num in encoded:\n",
    "        seq += chr(decrypt(num, private_key))\n",
    "    return seq"
   ]
  },
  {
   "cell_type": "code",
   "execution_count": 6,
   "metadata": {},
   "outputs": [
    {
     "name": "stdout",
     "output_type": "stream",
     "text": [
      "[1124864, 1030301, 1259712, 1259712, 1367631, 32768, 1685159, 1367631, 1481544, 1259712, 1000000]\n",
      "hello world\n"
     ]
    }
   ],
   "source": [
    "m = \"hello world\"\n",
    "encode = encoder(m)\n",
    "decode = decoder(encode)\n",
    "\n",
    "print(encode)\n",
    "print(decode)"
   ]
  },
  {
   "cell_type": "code",
   "execution_count": 10,
   "metadata": {},
   "outputs": [
    {
     "name": "stdout",
     "output_type": "stream",
     "text": [
      "23\n"
     ]
    }
   ],
   "source": [
    "print(-939%26)"
   ]
  }
 ],
 "metadata": {
  "kernelspec": {
   "display_name": "vm",
   "language": "python",
   "name": "python3"
  },
  "language_info": {
   "codemirror_mode": {
    "name": "ipython",
    "version": 3
   },
   "file_extension": ".py",
   "mimetype": "text/x-python",
   "name": "python",
   "nbconvert_exporter": "python",
   "pygments_lexer": "ipython3",
   "version": "3.11.8"
  }
 },
 "nbformat": 4,
 "nbformat_minor": 2
}
